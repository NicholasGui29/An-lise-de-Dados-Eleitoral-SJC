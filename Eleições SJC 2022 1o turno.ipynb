{
 "cells": [
  {
   "cell_type": "markdown",
   "metadata": {},
   "source": [
    "# Análise de Dados Eleitorais Manaus 1o turno\n",
    "\n",
    "Meus contatos: https://linktr.ee/fmasanori\n",
    "\n",
    "Agradecimentos à primeira turma do curso Desenvolvimento em Software Multiplataforma, da FATEC São José dos Campos, que desenvolveu este projeto, inicialmente para a [TV Vanguarda](http://vanguarda.tv/). Em especial à Monique Carniello.\n",
    "\n",
    "ATENÇÃO: na primeira tela de instalação do Python, habilite a opção PATH, note que **não** é o padrão.\n",
    "\n",
    "Instalar o Python 3.6 ou superior (sugerimos não usar Anaconda) <br>\n",
    "https://python.org.br/instalacao-windows/ <br>\n",
    "https://python.org.br/instalacao-linux/ <br>\n",
    "https://python.org.br/instalacao-mac/ <br>\n",
    "\n",
    "Após instalar o Python, abra o terminal (Linha de Comando) e instale as bibliotecas necessárias:<br>\n",
    "<br>\n",
    "**pip install pandas matplotlib jupyter numpy**\n",
    "\n",
    "Arquivos necessários:<br> \n",
    "https://cdn.tse.jus.br/estatistica/sead/odsele/perfil_eleitor_secao/perfil_eleitor_secao_ATUAL_AM.zip\n",
    "https://cdn.tse.jus.br/estatistica/sead/eleicoes/eleicoes2022/buweb/bweb_1t_AM_051020221321.zip<br>\n",
    "<br>\n",
    "**Descompactar em c:\\users\\seunome**<br>\n",
    "<br>"
   ]
  },
  {
   "cell_type": "markdown",
   "metadata": {},
   "source": [
    "# Primeira parte: Perfil do Eleitorado\n",
    "<br>\n",
    "<br>\n"
   ]
  },
  {
   "cell_type": "code",
   "execution_count": 26,
   "metadata": {},
   "outputs": [],
   "source": [
    "import pandas as pd\n",
    "import matplotlib.pyplot as plt"
   ]
  },
  {
   "cell_type": "code",
   "execution_count": 27,
   "metadata": {},
   "outputs": [],
   "source": [
    "estado = pd.read_csv(\"perfil_eleitor_secao_ATUAL_SP.csv\", \n",
    "                 usecols = '''NR_ZONA NR_SECAO NM_MUNICIPIO DS_FAIXA_ETARIA DS_ESTADO_CIVIL DS_GRAU_ESCOLARIDADE \n",
    "                 QT_ELEITORES_INC_NM_SOCIAL QT_ELEITORES_PERFIL'''.split(),\n",
    "                 sep=\";\", encoding='Latin 1')\n",
    "municipio = estado.query('NM_MUNICIPIO == \"SÃO JOSÉ DOS CAMPOS\"')\n",
    "municipio = municipio.drop(columns = 'NM_MUNICIPIO')"
   ]
  },
  {
   "cell_type": "code",
   "execution_count": 28,
   "metadata": {
    "scrolled": false
   },
   "outputs": [
    {
     "data": {
      "text/html": [
       "<div>\n",
       "<style scoped>\n",
       "    .dataframe tbody tr th:only-of-type {\n",
       "        vertical-align: middle;\n",
       "    }\n",
       "\n",
       "    .dataframe tbody tr th {\n",
       "        vertical-align: top;\n",
       "    }\n",
       "\n",
       "    .dataframe thead th {\n",
       "        text-align: right;\n",
       "    }\n",
       "</style>\n",
       "<table border=\"1\" class=\"dataframe\">\n",
       "  <thead>\n",
       "    <tr style=\"text-align: right;\">\n",
       "      <th></th>\n",
       "      <th>NR_ZONA</th>\n",
       "      <th>NR_SECAO</th>\n",
       "      <th>DS_ESTADO_CIVIL</th>\n",
       "      <th>DS_FAIXA_ETARIA</th>\n",
       "      <th>DS_GRAU_ESCOLARIDADE</th>\n",
       "      <th>QT_ELEITORES_PERFIL</th>\n",
       "      <th>QT_ELEITORES_INC_NM_SOCIAL</th>\n",
       "    </tr>\n",
       "  </thead>\n",
       "  <tbody>\n",
       "    <tr>\n",
       "      <th>6512288</th>\n",
       "      <td>411</td>\n",
       "      <td>35</td>\n",
       "      <td>SOLTEIRO</td>\n",
       "      <td>65 a 69 anos</td>\n",
       "      <td>ENSINO MÉDIO COMPLETO</td>\n",
       "      <td>3</td>\n",
       "      <td>0</td>\n",
       "    </tr>\n",
       "    <tr>\n",
       "      <th>1693572</th>\n",
       "      <td>127</td>\n",
       "      <td>573</td>\n",
       "      <td>SOLTEIRO</td>\n",
       "      <td>35 a 39 anos</td>\n",
       "      <td>SUPERIOR INCOMPLETO</td>\n",
       "      <td>1</td>\n",
       "      <td>0</td>\n",
       "    </tr>\n",
       "    <tr>\n",
       "      <th>9354179</th>\n",
       "      <td>412</td>\n",
       "      <td>24</td>\n",
       "      <td>DIVORCIADO</td>\n",
       "      <td>55 a 59 anos</td>\n",
       "      <td>ENSINO MÉDIO COMPLETO</td>\n",
       "      <td>2</td>\n",
       "      <td>0</td>\n",
       "    </tr>\n",
       "    <tr>\n",
       "      <th>12725342</th>\n",
       "      <td>411</td>\n",
       "      <td>173</td>\n",
       "      <td>SOLTEIRO</td>\n",
       "      <td>18 anos</td>\n",
       "      <td>ENSINO MÉDIO INCOMPLETO</td>\n",
       "      <td>1</td>\n",
       "      <td>0</td>\n",
       "    </tr>\n",
       "    <tr>\n",
       "      <th>8050112</th>\n",
       "      <td>412</td>\n",
       "      <td>191</td>\n",
       "      <td>VIÚVO</td>\n",
       "      <td>65 a 69 anos</td>\n",
       "      <td>ENSINO FUNDAMENTAL INCOMPLETO</td>\n",
       "      <td>1</td>\n",
       "      <td>0</td>\n",
       "    </tr>\n",
       "    <tr>\n",
       "      <th>2148833</th>\n",
       "      <td>412</td>\n",
       "      <td>293</td>\n",
       "      <td>DIVORCIADO</td>\n",
       "      <td>60 a 64 anos</td>\n",
       "      <td>ENSINO FUNDAMENTAL INCOMPLETO</td>\n",
       "      <td>1</td>\n",
       "      <td>0</td>\n",
       "    </tr>\n",
       "    <tr>\n",
       "      <th>12182497</th>\n",
       "      <td>411</td>\n",
       "      <td>378</td>\n",
       "      <td>DIVORCIADO</td>\n",
       "      <td>70 a 74 anos</td>\n",
       "      <td>ENSINO MÉDIO COMPLETO</td>\n",
       "      <td>1</td>\n",
       "      <td>0</td>\n",
       "    </tr>\n",
       "    <tr>\n",
       "      <th>2086413</th>\n",
       "      <td>282</td>\n",
       "      <td>56</td>\n",
       "      <td>CASADO</td>\n",
       "      <td>25 a 29 anos</td>\n",
       "      <td>ENSINO MÉDIO COMPLETO</td>\n",
       "      <td>2</td>\n",
       "      <td>0</td>\n",
       "    </tr>\n",
       "    <tr>\n",
       "      <th>9301694</th>\n",
       "      <td>412</td>\n",
       "      <td>495</td>\n",
       "      <td>SOLTEIRO</td>\n",
       "      <td>55 a 59 anos</td>\n",
       "      <td>SUPERIOR INCOMPLETO</td>\n",
       "      <td>2</td>\n",
       "      <td>0</td>\n",
       "    </tr>\n",
       "    <tr>\n",
       "      <th>2152949</th>\n",
       "      <td>412</td>\n",
       "      <td>319</td>\n",
       "      <td>SOLTEIRO</td>\n",
       "      <td>25 a 29 anos</td>\n",
       "      <td>ENSINO FUNDAMENTAL INCOMPLETO</td>\n",
       "      <td>1</td>\n",
       "      <td>0</td>\n",
       "    </tr>\n",
       "    <tr>\n",
       "      <th>4475755</th>\n",
       "      <td>282</td>\n",
       "      <td>88</td>\n",
       "      <td>SOLTEIRO</td>\n",
       "      <td>50 a 54 anos</td>\n",
       "      <td>ENSINO FUNDAMENTAL COMPLETO</td>\n",
       "      <td>2</td>\n",
       "      <td>0</td>\n",
       "    </tr>\n",
       "    <tr>\n",
       "      <th>11057746</th>\n",
       "      <td>411</td>\n",
       "      <td>258</td>\n",
       "      <td>DIVORCIADO</td>\n",
       "      <td>65 a 69 anos</td>\n",
       "      <td>LÊ E ESCREVE</td>\n",
       "      <td>1</td>\n",
       "      <td>0</td>\n",
       "    </tr>\n",
       "    <tr>\n",
       "      <th>14488004</th>\n",
       "      <td>127</td>\n",
       "      <td>21</td>\n",
       "      <td>SOLTEIRO</td>\n",
       "      <td>45 a 49 anos</td>\n",
       "      <td>SUPERIOR COMPLETO</td>\n",
       "      <td>2</td>\n",
       "      <td>0</td>\n",
       "    </tr>\n",
       "    <tr>\n",
       "      <th>7094512</th>\n",
       "      <td>412</td>\n",
       "      <td>455</td>\n",
       "      <td>DIVORCIADO</td>\n",
       "      <td>65 a 69 anos</td>\n",
       "      <td>ENSINO FUNDAMENTAL INCOMPLETO</td>\n",
       "      <td>1</td>\n",
       "      <td>0</td>\n",
       "    </tr>\n",
       "    <tr>\n",
       "      <th>1192564</th>\n",
       "      <td>411</td>\n",
       "      <td>387</td>\n",
       "      <td>CASADO</td>\n",
       "      <td>70 a 74 anos</td>\n",
       "      <td>ENSINO FUNDAMENTAL INCOMPLETO</td>\n",
       "      <td>2</td>\n",
       "      <td>0</td>\n",
       "    </tr>\n",
       "    <tr>\n",
       "      <th>11632816</th>\n",
       "      <td>412</td>\n",
       "      <td>386</td>\n",
       "      <td>CASADO</td>\n",
       "      <td>60 a 64 anos</td>\n",
       "      <td>ENSINO MÉDIO INCOMPLETO</td>\n",
       "      <td>1</td>\n",
       "      <td>0</td>\n",
       "    </tr>\n",
       "    <tr>\n",
       "      <th>4468826</th>\n",
       "      <td>282</td>\n",
       "      <td>46</td>\n",
       "      <td>CASADO</td>\n",
       "      <td>70 a 74 anos</td>\n",
       "      <td>ENSINO FUNDAMENTAL INCOMPLETO</td>\n",
       "      <td>8</td>\n",
       "      <td>0</td>\n",
       "    </tr>\n",
       "    <tr>\n",
       "      <th>13530044</th>\n",
       "      <td>127</td>\n",
       "      <td>495</td>\n",
       "      <td>SOLTEIRO</td>\n",
       "      <td>55 a 59 anos</td>\n",
       "      <td>ENSINO MÉDIO COMPLETO</td>\n",
       "      <td>2</td>\n",
       "      <td>0</td>\n",
       "    </tr>\n",
       "    <tr>\n",
       "      <th>15406665</th>\n",
       "      <td>411</td>\n",
       "      <td>234</td>\n",
       "      <td>SOLTEIRO</td>\n",
       "      <td>60 a 64 anos</td>\n",
       "      <td>SUPERIOR COMPLETO</td>\n",
       "      <td>1</td>\n",
       "      <td>0</td>\n",
       "    </tr>\n",
       "    <tr>\n",
       "      <th>1837659</th>\n",
       "      <td>412</td>\n",
       "      <td>458</td>\n",
       "      <td>CASADO</td>\n",
       "      <td>25 a 29 anos</td>\n",
       "      <td>ENSINO MÉDIO COMPLETO</td>\n",
       "      <td>1</td>\n",
       "      <td>0</td>\n",
       "    </tr>\n",
       "  </tbody>\n",
       "</table>\n",
       "</div>"
      ],
      "text/plain": [
       "          NR_ZONA  NR_SECAO DS_ESTADO_CIVIL DS_FAIXA_ETARIA  \\\n",
       "6512288       411        35        SOLTEIRO    65 a 69 anos   \n",
       "1693572       127       573        SOLTEIRO    35 a 39 anos   \n",
       "9354179       412        24      DIVORCIADO    55 a 59 anos   \n",
       "12725342      411       173        SOLTEIRO         18 anos   \n",
       "8050112       412       191           VIÚVO    65 a 69 anos   \n",
       "2148833       412       293      DIVORCIADO    60 a 64 anos   \n",
       "12182497      411       378      DIVORCIADO    70 a 74 anos   \n",
       "2086413       282        56          CASADO    25 a 29 anos   \n",
       "9301694       412       495        SOLTEIRO    55 a 59 anos   \n",
       "2152949       412       319        SOLTEIRO    25 a 29 anos   \n",
       "4475755       282        88        SOLTEIRO    50 a 54 anos   \n",
       "11057746      411       258      DIVORCIADO    65 a 69 anos   \n",
       "14488004      127        21        SOLTEIRO    45 a 49 anos   \n",
       "7094512       412       455      DIVORCIADO    65 a 69 anos   \n",
       "1192564       411       387          CASADO    70 a 74 anos   \n",
       "11632816      412       386          CASADO    60 a 64 anos   \n",
       "4468826       282        46          CASADO    70 a 74 anos   \n",
       "13530044      127       495        SOLTEIRO    55 a 59 anos   \n",
       "15406665      411       234        SOLTEIRO    60 a 64 anos   \n",
       "1837659       412       458          CASADO    25 a 29 anos   \n",
       "\n",
       "                   DS_GRAU_ESCOLARIDADE  QT_ELEITORES_PERFIL  \\\n",
       "6512288           ENSINO MÉDIO COMPLETO                    3   \n",
       "1693572             SUPERIOR INCOMPLETO                    1   \n",
       "9354179           ENSINO MÉDIO COMPLETO                    2   \n",
       "12725342        ENSINO MÉDIO INCOMPLETO                    1   \n",
       "8050112   ENSINO FUNDAMENTAL INCOMPLETO                    1   \n",
       "2148833   ENSINO FUNDAMENTAL INCOMPLETO                    1   \n",
       "12182497          ENSINO MÉDIO COMPLETO                    1   \n",
       "2086413           ENSINO MÉDIO COMPLETO                    2   \n",
       "9301694             SUPERIOR INCOMPLETO                    2   \n",
       "2152949   ENSINO FUNDAMENTAL INCOMPLETO                    1   \n",
       "4475755     ENSINO FUNDAMENTAL COMPLETO                    2   \n",
       "11057746                   LÊ E ESCREVE                    1   \n",
       "14488004              SUPERIOR COMPLETO                    2   \n",
       "7094512   ENSINO FUNDAMENTAL INCOMPLETO                    1   \n",
       "1192564   ENSINO FUNDAMENTAL INCOMPLETO                    2   \n",
       "11632816        ENSINO MÉDIO INCOMPLETO                    1   \n",
       "4468826   ENSINO FUNDAMENTAL INCOMPLETO                    8   \n",
       "13530044          ENSINO MÉDIO COMPLETO                    2   \n",
       "15406665              SUPERIOR COMPLETO                    1   \n",
       "1837659           ENSINO MÉDIO COMPLETO                    1   \n",
       "\n",
       "          QT_ELEITORES_INC_NM_SOCIAL  \n",
       "6512288                            0  \n",
       "1693572                            0  \n",
       "9354179                            0  \n",
       "12725342                           0  \n",
       "8050112                            0  \n",
       "2148833                            0  \n",
       "12182497                           0  \n",
       "2086413                            0  \n",
       "9301694                            0  \n",
       "2152949                            0  \n",
       "4475755                            0  \n",
       "11057746                           0  \n",
       "14488004                           0  \n",
       "7094512                            0  \n",
       "1192564                            0  \n",
       "11632816                           0  \n",
       "4468826                            0  \n",
       "13530044                           0  \n",
       "15406665                           0  \n",
       "1837659                            0  "
      ]
     },
     "execution_count": 28,
     "metadata": {},
     "output_type": "execute_result"
    }
   ],
   "source": [
    "municipio.sample(20)"
   ]
  },
  {
   "cell_type": "markdown",
   "metadata": {},
   "source": [
    "## Faixa Etária \n"
   ]
  },
  {
   "cell_type": "code",
   "execution_count": 29,
   "metadata": {},
   "outputs": [
    {
     "data": {
      "text/plain": [
       "DS_FAIXA_ETARIA\n",
       "100 anos ou mais      723\n",
       "16 anos               746\n",
       "17 anos              2893\n",
       "18 anos              5815\n",
       "19 anos              7778\n",
       "20 anos              8401\n",
       "21 a 24 anos        39882\n",
       "25 a 29 anos        52836\n",
       "30 a 34 anos        55398\n",
       "35 a 39 anos        59060\n",
       "40 a 44 anos        62182\n",
       "45 a 49 anos        52104\n",
       "50 a 54 anos        46229\n",
       "55 a 59 anos        43072\n",
       "60 a 64 anos        37983\n",
       "65 a 69 anos        31511\n",
       "70 a 74 anos        22654\n",
       "75 a 79 anos        13948\n",
       "80 a 84 anos         7599\n",
       "85 a 89 anos         4097\n",
       "90 a 94 anos         2205\n",
       "95 a 99 anos         1470\n",
       "Inválido                2\n",
       "Name: QT_ELEITORES_PERFIL, dtype: int64"
      ]
     },
     "execution_count": 29,
     "metadata": {},
     "output_type": "execute_result"
    }
   ],
   "source": [
    "FaixaEtaria = municipio.groupby(['DS_FAIXA_ETARIA'])['QT_ELEITORES_PERFIL'].sum()\n",
    "FaixaEtaria"
   ]
  },
  {
   "cell_type": "code",
   "execution_count": 30,
   "metadata": {
    "scrolled": false
   },
   "outputs": [
    {
     "data": {
      "image/png": "[encoded data removed]",
      "text/plain": [
       "<Figure size 1600x1000 with 1 Axes>"
      ]
     },
     "metadata": {},
     "output_type": "display_data"
    }
   ],
   "source": [
    "FaixaEtaria.plot(kind='barh', figsize=(16,10))\n",
    "plt.ylabel('FAIXA ETÁRIA')\n",
    "plt.grid(linestyle = '--', linewidth = 0.5)\n"
   ]
  },
  {
   "cell_type": "markdown",
   "metadata": {},
   "source": [
    "## Agrupamento da faixa etária"
   ]
  },
  {
   "cell_type": "code",
   "execution_count": 31,
   "metadata": {},
   "outputs": [],
   "source": [
    "Jovem = FaixaEtaria[1:8] \n",
    "Adulto = FaixaEtaria[8:14] \n",
    "Idoso = FaixaEtaria[14:22] "
   ]
  },
  {
   "cell_type": "code",
   "execution_count": 32,
   "metadata": {
    "scrolled": false
   },
   "outputs": [
    {
     "data": {
      "text/html": [
       "<div>\n",
       "<style scoped>\n",
       "    .dataframe tbody tr th:only-of-type {\n",
       "        vertical-align: middle;\n",
       "    }\n",
       "\n",
       "    .dataframe tbody tr th {\n",
       "        vertical-align: top;\n",
       "    }\n",
       "\n",
       "    .dataframe thead th {\n",
       "        text-align: right;\n",
       "    }\n",
       "</style>\n",
       "<table border=\"1\" class=\"dataframe\">\n",
       "  <thead>\n",
       "    <tr style=\"text-align: right;\">\n",
       "      <th></th>\n",
       "      <th>Manaus</th>\n",
       "    </tr>\n",
       "  </thead>\n",
       "  <tbody>\n",
       "    <tr>\n",
       "      <th>Jovens até 29 anos</th>\n",
       "      <td>118351</td>\n",
       "    </tr>\n",
       "    <tr>\n",
       "      <th>Adultos</th>\n",
       "      <td>318045</td>\n",
       "    </tr>\n",
       "    <tr>\n",
       "      <th>Idosos a partir de 60</th>\n",
       "      <td>122190</td>\n",
       "    </tr>\n",
       "  </tbody>\n",
       "</table>\n",
       "</div>"
      ],
      "text/plain": [
       "                       Manaus\n",
       "Jovens até 29 anos     118351\n",
       "Adultos                318045\n",
       "Idosos a partir de 60  122190"
      ]
     },
     "execution_count": 32,
     "metadata": {},
     "output_type": "execute_result"
    }
   ],
   "source": [
    "FaixasIdade = pd.DataFrame({'Manaus':[Jovem.sum(), Adulto.sum(), Idoso.sum() + int(FaixaEtaria[0])]},\n",
    "                        #somando idosos acima de 100 anos que estão no ínício\n",
    "                        index = ['Jovens até 29 anos', 'Adultos', 'Idosos a partir de 60'])\n",
    "FaixasIdade"
   ]
  },
  {
   "cell_type": "code",
   "execution_count": 33,
   "metadata": {},
   "outputs": [
    {
     "data": {
      "image/png": "[encoded data removed]",
      "text/plain": [
       "<Figure size 1600x800 with 1 Axes>"
      ]
     },
     "metadata": {},
     "output_type": "display_data"
    }
   ],
   "source": [
    "FaixasIdade.plot(kind='barh', figsize=(16,8))\n",
    "plt.ylabel('FAIXA ETÁRIA AGRUPADA')\n",
    "plt.grid(linestyle = '--', linewidth = 0.5)\n"
   ]
  },
  {
   "cell_type": "markdown",
   "metadata": {},
   "source": [
    "## Zonas Eleitorais com mais jovens e mais idosos"
   ]
  },
  {
   "cell_type": "code",
   "execution_count": 34,
   "metadata": {},
   "outputs": [
    {
     "name": "stdout",
     "output_type": "stream",
     "text": [
      "Zona eleitoral 412: 39878\n",
      "Zona eleitoral 411: 32447\n",
      "Zona eleitoral 127: 27707\n",
      "Zona eleitoral 282: 18319\n"
     ]
    }
   ],
   "source": [
    "jovens = {}\n",
    "for zona in municipio.NR_ZONA.unique():\n",
    "    result = municipio.query('NR_ZONA == @zona').groupby('DS_FAIXA_ETARIA')['QT_ELEITORES_PERFIL'].sum()\n",
    "    jovens[zona] = result[1:8].sum()\n",
    "for zona in sorted(jovens, key=lambda x:jovens[x], reverse = True):\n",
    "    print (f'Zona eleitoral {zona}: {jovens[zona]}')"
   ]
  },
  {
   "cell_type": "code",
   "execution_count": 35,
   "metadata": {},
   "outputs": [
    {
     "name": "stdout",
     "output_type": "stream",
     "text": [
      "Zona eleitoral 412: 39007\n",
      "Zona eleitoral 127: 35101\n",
      "Zona eleitoral 411: 29974\n",
      "Zona eleitoral 282: 18108\n"
     ]
    }
   ],
   "source": [
    "idosos = {}\n",
    "for zona in municipio.NR_ZONA.unique():\n",
    "    result = municipio.query('NR_ZONA == @zona').groupby('DS_FAIXA_ETARIA')['QT_ELEITORES_PERFIL'].sum()\n",
    "    idosos[zona] = result[14:22].sum() + int(result[0])\n",
    "for zona in sorted(idosos, key=lambda x:idosos[x], reverse = True):\n",
    "    print (f'Zona eleitoral {zona}: {idosos[zona]}')"
   ]
  },
  {
   "cell_type": "markdown",
   "metadata": {},
   "source": [
    "## Estado Civil"
   ]
  },
  {
   "cell_type": "code",
   "execution_count": 36,
   "metadata": {},
   "outputs": [
    {
     "data": {
      "text/plain": [
       "DS_ESTADO_CIVIL\n",
       "CASADO                    250104\n",
       "SOLTEIRO                  247786\n",
       "DIVORCIADO                 34900\n",
       "VIÚVO                      17077\n",
       "SEPARADO JUDICIALMENTE      8706\n",
       "NÃO INFORMADO                 15\n",
       "Name: QT_ELEITORES_PERFIL, dtype: int64"
      ]
     },
     "execution_count": 36,
     "metadata": {},
     "output_type": "execute_result"
    }
   ],
   "source": [
    "EstadoCivil = municipio.groupby('DS_ESTADO_CIVIL')['QT_ELEITORES_PERFIL'].sum().sort_values(ascending=False)\n",
    "EstadoCivil"
   ]
  },
  {
   "cell_type": "markdown",
   "metadata": {},
   "source": [
    "## Escolaridade\n"
   ]
  },
  {
   "cell_type": "code",
   "execution_count": 37,
   "metadata": {},
   "outputs": [
    {
     "data": {
      "text/plain": [
       "DS_GRAU_ESCOLARIDADE\n",
       "ENSINO MÉDIO COMPLETO            213996\n",
       "SUPERIOR COMPLETO                117784\n",
       "ENSINO FUNDAMENTAL INCOMPLETO     76698\n",
       "ENSINO MÉDIO INCOMPLETO           59625\n",
       "ENSINO FUNDAMENTAL COMPLETO       36900\n",
       "SUPERIOR INCOMPLETO               36323\n",
       "LÊ E ESCREVE                      10353\n",
       "ANALFABETO                         6909\n",
       "Name: QT_ELEITORES_PERFIL, dtype: int64"
      ]
     },
     "execution_count": 37,
     "metadata": {},
     "output_type": "execute_result"
    }
   ],
   "source": [
    "Escolaridade = municipio.groupby(['DS_GRAU_ESCOLARIDADE'])['QT_ELEITORES_PERFIL'].sum().sort_values(ascending = False)\n",
    "Escolaridade"
   ]
  },
  {
   "cell_type": "markdown",
   "metadata": {},
   "source": [
    "## Salvar Dados"
   ]
  },
  {
   "cell_type": "code",
   "execution_count": 38,
   "metadata": {},
   "outputs": [],
   "source": [
    "FaixasIdade.to_csv('FaixasIdade.csv')\n",
    "EstadoCivil.to_csv('EstadoCivil.csv')\n",
    "Escolaridade.to_csv('Escolaridade.csv')"
   ]
  },
  {
   "cell_type": "markdown",
   "metadata": {},
   "source": [
    "## Nome social\n"
   ]
  },
  {
   "cell_type": "code",
   "execution_count": 39,
   "metadata": {},
   "outputs": [
    {
     "data": {
      "text/plain": [
       "128"
      ]
     },
     "execution_count": 39,
     "metadata": {},
     "output_type": "execute_result"
    }
   ],
   "source": [
    "NomeSocial = municipio.groupby(['QT_ELEITORES_INC_NM_SOCIAL'])['QT_ELEITORES_PERFIL'].count()\n",
    "NomeSocial[1]"
   ]
  },
  {
   "cell_type": "markdown",
   "metadata": {},
   "source": [
    "# Zonas Eleitorais com mais pessoas que utilizam nome social"
   ]
  },
  {
   "cell_type": "code",
   "execution_count": 40,
   "metadata": {},
   "outputs": [
    {
     "name": "stdout",
     "output_type": "stream",
     "text": [
      "Zona eleitoral 412: 44\n",
      "Zona eleitoral 127: 37\n",
      "Zona eleitoral 411: 31\n",
      "Zona eleitoral 282: 16\n"
     ]
    }
   ],
   "source": [
    "nome_social = {}\n",
    "for zona in municipio.NR_ZONA.unique():\n",
    "    result = municipio.query('NR_ZONA == @zona').groupby('QT_ELEITORES_INC_NM_SOCIAL')['QT_ELEITORES_PERFIL'].count()\n",
    "    nome_social[zona] = result[1]\n",
    "for zona in sorted(nome_social, key=lambda x:nome_social[x], reverse = True):\n",
    "    print (f'Zona eleitoral {zona}: {nome_social[zona]}')"
   ]
  },
  {
   "cell_type": "markdown",
   "metadata": {},
   "source": [
    "# Segunda parte: análise dos boletins de urna do 1o turno\n",
    "<br>\n",
    "<br>"
   ]
  },
  {
   "cell_type": "code",
   "execution_count": 41,
   "metadata": {},
   "outputs": [],
   "source": [
    "import pandas as pd\n",
    "import matplotlib.pyplot as plt\n",
    "import numpy as np"
   ]
  },
  {
   "cell_type": "code",
   "execution_count": 42,
   "metadata": {},
   "outputs": [],
   "source": [
    "estado = pd.read_csv(\"bweb_1t_SP_051020221321.csv\", \n",
    "                 usecols = '''NR_ZONA NR_SECAO NM_MUNICIPIO QT_COMPARECIMENTO QT_APTOS QT_COMPARECIMENTO \n",
    "                 QT_ABSTENCOES NR_VOTAVEL NM_VOTAVEL QT_VOTOS DS_CARGO_PERGUNTA'''.split(),\n",
    "                 sep=\";\", encoding='Latin 1')\n",
    "municipio = estado.query('NM_MUNICIPIO == \"SÃO JOSÉ DOS CAMPOS\" and DS_CARGO_PERGUNTA == \"Presidente\"')\n",
    "municipio = municipio.drop(columns = 'NM_MUNICIPIO DS_CARGO_PERGUNTA'.split())"
   ]
  },
  {
   "cell_type": "code",
   "execution_count": 43,
   "metadata": {},
   "outputs": [
    {
     "data": {
      "text/html": [
       "<div>\n",
       "<style scoped>\n",
       "    .dataframe tbody tr th:only-of-type {\n",
       "        vertical-align: middle;\n",
       "    }\n",
       "\n",
       "    .dataframe tbody tr th {\n",
       "        vertical-align: top;\n",
       "    }\n",
       "\n",
       "    .dataframe thead th {\n",
       "        text-align: right;\n",
       "    }\n",
       "</style>\n",
       "<table border=\"1\" class=\"dataframe\">\n",
       "  <thead>\n",
       "    <tr style=\"text-align: right;\">\n",
       "      <th></th>\n",
       "      <th>NR_ZONA</th>\n",
       "      <th>NR_SECAO</th>\n",
       "      <th>QT_APTOS</th>\n",
       "      <th>QT_COMPARECIMENTO</th>\n",
       "      <th>QT_ABSTENCOES</th>\n",
       "      <th>NR_VOTAVEL</th>\n",
       "      <th>NM_VOTAVEL</th>\n",
       "      <th>QT_VOTOS</th>\n",
       "    </tr>\n",
       "  </thead>\n",
       "  <tbody>\n",
       "    <tr>\n",
       "      <th>4310535</th>\n",
       "      <td>127</td>\n",
       "      <td>649</td>\n",
       "      <td>372</td>\n",
       "      <td>293</td>\n",
       "      <td>79</td>\n",
       "      <td>96</td>\n",
       "      <td>Nulo</td>\n",
       "      <td>9</td>\n",
       "    </tr>\n",
       "    <tr>\n",
       "      <th>18190719</th>\n",
       "      <td>412</td>\n",
       "      <td>494</td>\n",
       "      <td>327</td>\n",
       "      <td>252</td>\n",
       "      <td>75</td>\n",
       "      <td>13</td>\n",
       "      <td>LULA</td>\n",
       "      <td>101</td>\n",
       "    </tr>\n",
       "    <tr>\n",
       "      <th>4318428</th>\n",
       "      <td>127</td>\n",
       "      <td>696</td>\n",
       "      <td>396</td>\n",
       "      <td>341</td>\n",
       "      <td>55</td>\n",
       "      <td>13</td>\n",
       "      <td>LULA</td>\n",
       "      <td>96</td>\n",
       "    </tr>\n",
       "    <tr>\n",
       "      <th>4300147</th>\n",
       "      <td>127</td>\n",
       "      <td>595</td>\n",
       "      <td>413</td>\n",
       "      <td>353</td>\n",
       "      <td>60</td>\n",
       "      <td>30</td>\n",
       "      <td>FELIPE D'AVILA</td>\n",
       "      <td>9</td>\n",
       "    </tr>\n",
       "    <tr>\n",
       "      <th>18109334</th>\n",
       "      <td>412</td>\n",
       "      <td>92</td>\n",
       "      <td>436</td>\n",
       "      <td>331</td>\n",
       "      <td>105</td>\n",
       "      <td>44</td>\n",
       "      <td>SORAYA THRONICKE</td>\n",
       "      <td>2</td>\n",
       "    </tr>\n",
       "    <tr>\n",
       "      <th>18021972</th>\n",
       "      <td>411</td>\n",
       "      <td>30</td>\n",
       "      <td>344</td>\n",
       "      <td>235</td>\n",
       "      <td>109</td>\n",
       "      <td>15</td>\n",
       "      <td>SIMONE TEBET</td>\n",
       "      <td>19</td>\n",
       "    </tr>\n",
       "    <tr>\n",
       "      <th>18135512</th>\n",
       "      <td>412</td>\n",
       "      <td>223</td>\n",
       "      <td>411</td>\n",
       "      <td>320</td>\n",
       "      <td>91</td>\n",
       "      <td>30</td>\n",
       "      <td>FELIPE D'AVILA</td>\n",
       "      <td>4</td>\n",
       "    </tr>\n",
       "    <tr>\n",
       "      <th>10599140</th>\n",
       "      <td>282</td>\n",
       "      <td>142</td>\n",
       "      <td>389</td>\n",
       "      <td>327</td>\n",
       "      <td>62</td>\n",
       "      <td>95</td>\n",
       "      <td>Branco</td>\n",
       "      <td>10</td>\n",
       "    </tr>\n",
       "    <tr>\n",
       "      <th>18038949</th>\n",
       "      <td>411</td>\n",
       "      <td>124</td>\n",
       "      <td>386</td>\n",
       "      <td>296</td>\n",
       "      <td>90</td>\n",
       "      <td>44</td>\n",
       "      <td>SORAYA THRONICKE</td>\n",
       "      <td>2</td>\n",
       "    </tr>\n",
       "    <tr>\n",
       "      <th>18160037</th>\n",
       "      <td>412</td>\n",
       "      <td>343</td>\n",
       "      <td>384</td>\n",
       "      <td>312</td>\n",
       "      <td>72</td>\n",
       "      <td>12</td>\n",
       "      <td>CIRO GOMES</td>\n",
       "      <td>8</td>\n",
       "    </tr>\n",
       "    <tr>\n",
       "      <th>4302735</th>\n",
       "      <td>127</td>\n",
       "      <td>608</td>\n",
       "      <td>392</td>\n",
       "      <td>322</td>\n",
       "      <td>70</td>\n",
       "      <td>12</td>\n",
       "      <td>CIRO GOMES</td>\n",
       "      <td>9</td>\n",
       "    </tr>\n",
       "    <tr>\n",
       "      <th>18147052</th>\n",
       "      <td>412</td>\n",
       "      <td>279</td>\n",
       "      <td>415</td>\n",
       "      <td>332</td>\n",
       "      <td>83</td>\n",
       "      <td>96</td>\n",
       "      <td>Nulo</td>\n",
       "      <td>5</td>\n",
       "    </tr>\n",
       "    <tr>\n",
       "      <th>18067537</th>\n",
       "      <td>411</td>\n",
       "      <td>277</td>\n",
       "      <td>412</td>\n",
       "      <td>322</td>\n",
       "      <td>90</td>\n",
       "      <td>30</td>\n",
       "      <td>FELIPE D'AVILA</td>\n",
       "      <td>2</td>\n",
       "    </tr>\n",
       "    <tr>\n",
       "      <th>18117442</th>\n",
       "      <td>412</td>\n",
       "      <td>133</td>\n",
       "      <td>376</td>\n",
       "      <td>274</td>\n",
       "      <td>102</td>\n",
       "      <td>44</td>\n",
       "      <td>SORAYA THRONICKE</td>\n",
       "      <td>1</td>\n",
       "    </tr>\n",
       "    <tr>\n",
       "      <th>18160450</th>\n",
       "      <td>412</td>\n",
       "      <td>345</td>\n",
       "      <td>401</td>\n",
       "      <td>334</td>\n",
       "      <td>67</td>\n",
       "      <td>12</td>\n",
       "      <td>CIRO GOMES</td>\n",
       "      <td>17</td>\n",
       "    </tr>\n",
       "    <tr>\n",
       "      <th>4305987</th>\n",
       "      <td>127</td>\n",
       "      <td>624</td>\n",
       "      <td>424</td>\n",
       "      <td>364</td>\n",
       "      <td>60</td>\n",
       "      <td>12</td>\n",
       "      <td>CIRO GOMES</td>\n",
       "      <td>8</td>\n",
       "    </tr>\n",
       "    <tr>\n",
       "      <th>18144004</th>\n",
       "      <td>412</td>\n",
       "      <td>264</td>\n",
       "      <td>396</td>\n",
       "      <td>325</td>\n",
       "      <td>71</td>\n",
       "      <td>30</td>\n",
       "      <td>FELIPE D'AVILA</td>\n",
       "      <td>6</td>\n",
       "    </tr>\n",
       "    <tr>\n",
       "      <th>4296741</th>\n",
       "      <td>127</td>\n",
       "      <td>578</td>\n",
       "      <td>428</td>\n",
       "      <td>354</td>\n",
       "      <td>74</td>\n",
       "      <td>13</td>\n",
       "      <td>LULA</td>\n",
       "      <td>99</td>\n",
       "    </tr>\n",
       "    <tr>\n",
       "      <th>4262134</th>\n",
       "      <td>127</td>\n",
       "      <td>141</td>\n",
       "      <td>333</td>\n",
       "      <td>252</td>\n",
       "      <td>81</td>\n",
       "      <td>14</td>\n",
       "      <td>PADRE KELMON</td>\n",
       "      <td>1</td>\n",
       "    </tr>\n",
       "    <tr>\n",
       "      <th>4324828</th>\n",
       "      <td>127</td>\n",
       "      <td>732</td>\n",
       "      <td>391</td>\n",
       "      <td>354</td>\n",
       "      <td>37</td>\n",
       "      <td>14</td>\n",
       "      <td>PADRE KELMON</td>\n",
       "      <td>1</td>\n",
       "    </tr>\n",
       "  </tbody>\n",
       "</table>\n",
       "</div>"
      ],
      "text/plain": [
       "          NR_ZONA  NR_SECAO  QT_APTOS  QT_COMPARECIMENTO  QT_ABSTENCOES  \\\n",
       "4310535       127       649       372                293             79   \n",
       "18190719      412       494       327                252             75   \n",
       "4318428       127       696       396                341             55   \n",
       "4300147       127       595       413                353             60   \n",
       "18109334      412        92       436                331            105   \n",
       "18021972      411        30       344                235            109   \n",
       "18135512      412       223       411                320             91   \n",
       "10599140      282       142       389                327             62   \n",
       "18038949      411       124       386                296             90   \n",
       "18160037      412       343       384                312             72   \n",
       "4302735       127       608       392                322             70   \n",
       "18147052      412       279       415                332             83   \n",
       "18067537      411       277       412                322             90   \n",
       "18117442      412       133       376                274            102   \n",
       "18160450      412       345       401                334             67   \n",
       "4305987       127       624       424                364             60   \n",
       "18144004      412       264       396                325             71   \n",
       "4296741       127       578       428                354             74   \n",
       "4262134       127       141       333                252             81   \n",
       "4324828       127       732       391                354             37   \n",
       "\n",
       "          NR_VOTAVEL        NM_VOTAVEL  QT_VOTOS  \n",
       "4310535           96              Nulo         9  \n",
       "18190719          13              LULA       101  \n",
       "4318428           13              LULA        96  \n",
       "4300147           30    FELIPE D'AVILA         9  \n",
       "18109334          44  SORAYA THRONICKE         2  \n",
       "18021972          15      SIMONE TEBET        19  \n",
       "18135512          30    FELIPE D'AVILA         4  \n",
       "10599140          95            Branco        10  \n",
       "18038949          44  SORAYA THRONICKE         2  \n",
       "18160037          12        CIRO GOMES         8  \n",
       "4302735           12        CIRO GOMES         9  \n",
       "18147052          96              Nulo         5  \n",
       "18067537          30    FELIPE D'AVILA         2  \n",
       "18117442          44  SORAYA THRONICKE         1  \n",
       "18160450          12        CIRO GOMES        17  \n",
       "4305987           12        CIRO GOMES         8  \n",
       "18144004          30    FELIPE D'AVILA         6  \n",
       "4296741           13              LULA        99  \n",
       "4262134           14      PADRE KELMON         1  \n",
       "4324828           14      PADRE KELMON         1  "
      ]
     },
     "execution_count": 43,
     "metadata": {},
     "output_type": "execute_result"
    }
   ],
   "source": [
    "municipio.sample(20)"
   ]
  },
  {
   "cell_type": "code",
   "execution_count": 44,
   "metadata": {},
   "outputs": [
    {
     "data": {
      "text/plain": [
       "NM_VOTAVEL\n",
       "JAIR BOLSONARO         233683\n",
       "LULA                   143732\n",
       "SIMONE TEBET            28467\n",
       "CIRO GOMES              14177\n",
       "Nulo                    11572\n",
       "Branco                   7745\n",
       "FELIPE D'AVILA           4513\n",
       "SORAYA THRONICKE         2254\n",
       "LÉO PÉRICLES              301\n",
       "SOFIA MANZANO             274\n",
       "VERA                      270\n",
       "PADRE KELMON              263\n",
       "CONSTITUINTE EYMAEL        84\n",
       "Name: QT_VOTOS, dtype: int64"
      ]
     },
     "execution_count": 44,
     "metadata": {},
     "output_type": "execute_result"
    }
   ],
   "source": [
    "municipio.groupby('NM_VOTAVEL')['QT_VOTOS'].sum().sort_values(ascending = False)"
   ]
  },
  {
   "cell_type": "code",
   "execution_count": 45,
   "metadata": {},
   "outputs": [
    {
     "data": {
      "text/html": [
       "<div>\n",
       "<style scoped>\n",
       "    .dataframe tbody tr th:only-of-type {\n",
       "        vertical-align: middle;\n",
       "    }\n",
       "\n",
       "    .dataframe tbody tr th {\n",
       "        vertical-align: top;\n",
       "    }\n",
       "\n",
       "    .dataframe thead th {\n",
       "        text-align: right;\n",
       "    }\n",
       "</style>\n",
       "<table border=\"1\" class=\"dataframe\">\n",
       "  <thead>\n",
       "    <tr style=\"text-align: right;\">\n",
       "      <th></th>\n",
       "      <th>Jair Bolsonaro</th>\n",
       "      <th>Lula</th>\n",
       "      <th>Simone Tebet</th>\n",
       "      <th>Nulos</th>\n",
       "      <th>Brancos</th>\n",
       "    </tr>\n",
       "  </thead>\n",
       "  <tbody>\n",
       "    <tr>\n",
       "      <th>127</th>\n",
       "      <td>53.3</td>\n",
       "      <td>30.3</td>\n",
       "      <td>7.4</td>\n",
       "      <td>2.1</td>\n",
       "      <td>1.4</td>\n",
       "    </tr>\n",
       "    <tr>\n",
       "      <th>282</th>\n",
       "      <td>49.6</td>\n",
       "      <td>34.9</td>\n",
       "      <td>6.3</td>\n",
       "      <td>2.8</td>\n",
       "      <td>2.1</td>\n",
       "    </tr>\n",
       "    <tr>\n",
       "      <th>411</th>\n",
       "      <td>49.6</td>\n",
       "      <td>35.5</td>\n",
       "      <td>5.6</td>\n",
       "      <td>2.8</td>\n",
       "      <td>1.9</td>\n",
       "    </tr>\n",
       "    <tr>\n",
       "      <th>412</th>\n",
       "      <td>54.7</td>\n",
       "      <td>29.7</td>\n",
       "      <td>6.2</td>\n",
       "      <td>2.7</td>\n",
       "      <td>1.7</td>\n",
       "    </tr>\n",
       "  </tbody>\n",
       "</table>\n",
       "</div>"
      ],
      "text/plain": [
       "     Jair Bolsonaro  Lula  Simone Tebet  Nulos  Brancos\n",
       "127            53.3  30.3           7.4    2.1      1.4\n",
       "282            49.6  34.9           6.3    2.8      2.1\n",
       "411            49.6  35.5           5.6    2.8      1.9\n",
       "412            54.7  29.7           6.2    2.7      1.7"
      ]
     },
     "execution_count": 45,
     "metadata": {},
     "output_type": "execute_result"
    }
   ],
   "source": [
    "votacao = {}\n",
    "for zona in municipio.NR_ZONA.unique():\n",
    "    result = municipio.query('NR_ZONA == @zona').groupby('NM_VOTAVEL')['QT_VOTOS'].sum()\n",
    "    total = sum(result)\n",
    "    votacao[zona] = {'Jair Bolsonaro': round(result[\"JAIR BOLSONARO\"] / total * 100, 1),\n",
    "                     'Lula': round(result[\"LULA\"] / total * 100, 1), \n",
    "                     'Simone Tebet': round(result['SIMONE TEBET'] / total * 100, 1),\n",
    "                     'Nulos':round(result['Nulo'] / total * 100, 1), \n",
    "                     'Brancos':round(result['Branco'] / total * 100, 1)\n",
    "                    }\n",
    "votacao = pd.DataFrame(votacao).transpose()\n",
    "votacao"
   ]
  },
  {
   "cell_type": "code",
   "execution_count": 46,
   "metadata": {},
   "outputs": [
    {
     "data": {
      "text/plain": [
       "412    54.7\n",
       "127    53.3\n",
       "411    49.6\n",
       "282    49.6\n",
       "Name: Jair Bolsonaro, dtype: float64"
      ]
     },
     "execution_count": 46,
     "metadata": {},
     "output_type": "execute_result"
    }
   ],
   "source": [
    "votacao['Jair Bolsonaro'].sort_values(ascending = False)"
   ]
  },
  {
   "cell_type": "code",
   "execution_count": 47,
   "metadata": {},
   "outputs": [
    {
     "data": {
      "text/plain": [
       "411    35.5\n",
       "282    34.9\n",
       "127    30.3\n",
       "412    29.7\n",
       "Name: Lula, dtype: float64"
      ]
     },
     "execution_count": 47,
     "metadata": {},
     "output_type": "execute_result"
    }
   ],
   "source": [
    "votacao['Lula'].sort_values(ascending = False)"
   ]
  },
  {
   "cell_type": "code",
   "execution_count": 48,
   "metadata": {},
   "outputs": [
    {
     "name": "stdout",
     "output_type": "stream",
     "text": [
      "Porcentagem de comparecimento 80.11%\n"
     ]
    }
   ],
   "source": [
    "print (f\"Porcentagem de comparecimento {municipio['QT_COMPARECIMENTO'].sum()/municipio['QT_APTOS'].sum()*100:.2f}%\")"
   ]
  }
 ],
 "metadata": {
  "kernelspec": {
   "display_name": "Python 3 (ipykernel)",
   "language": "python",
   "name": "python3"
  },
  "language_info": {
   "codemirror_mode": {
    "name": "ipython",
    "version": 3
   },
   "file_extension": ".py",
   "mimetype": "text/x-python",
   "name": "python",
   "nbconvert_exporter": "python",
   "pygments_lexer": "ipython3",
   "version": "3.7.0"
  },
  "toc": {
   "base_numbering": 1,
   "nav_menu": {},
   "number_sections": false,
   "sideBar": false,
   "skip_h1_title": false,
   "title_cell": "Table of Contents",
   "title_sidebar": "Contents",
   "toc_cell": false,
   "toc_position": {},
   "toc_section_display": false,
   "toc_window_display": false
  }
 },
 "nbformat": 4,
 "nbformat_minor": 4
}
